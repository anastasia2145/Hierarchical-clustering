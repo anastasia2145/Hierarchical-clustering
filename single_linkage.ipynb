{
 "cells": [
  {
   "cell_type": "markdown",
   "metadata": {},
   "source": [
    "# Иерархическая кластеризация точек на прямой\n",
    "\n",
    "1. Проверяем, что точки действительно лежат на одной прямой.\n",
    "2. Сортируем точки и считаем расстояния до соседей. Отсортировав полученные расстояния, получим порядок объединения в кластеры, который не измениться т.к. для объединения используется метод одиночной связи (single linkage).\n",
    "3. Продолжаем процесс объединения до тех пор пока не достигнем либо заданного числа кластеров, либо порога."
   ]
  },
  {
   "cell_type": "code",
   "execution_count": 1,
   "metadata": {
    "collapsed": true
   },
   "outputs": [],
   "source": [
    "import sys\n",
    "import numpy as np\n",
    "from operator import itemgetter"
   ]
  },
  {
   "cell_type": "code",
   "execution_count": 2,
   "metadata": {},
   "outputs": [],
   "source": [
    "class HierarchicalClustering:\n",
    "    def __init__(self, n_clusters=None, threshold=None):\n",
    "        # Проверяем, что задано что-то одно либо n_clusters, либо threshold\n",
    "        assert (n_clusters is None or threshold is None)\n",
    "        assert not(n_clusters is None and threshold is None), 'n_clusters or threshold must be set.'\n",
    "        if n_clusters is not None:\n",
    "            self.n_clusters = n_clusters\n",
    "            if self.n_clusters <= 0:\n",
    "                raise Exception('Wrong number of clusters. Number of clusters must be greater than zero.')\n",
    "            self.threshold = sys.maxsize\n",
    "        if threshold is not None:\n",
    "            self.threshold = threshold\n",
    "            self.n_clusters = -sys.maxsize\n",
    "    \n",
    "    def init_points(self, data):\n",
    "        self.data = data\n",
    "        self.check_on_line()\n",
    "        self.sort()\n",
    "        \n",
    "    def dist(self, point_1, point_2):\n",
    "        x_1, y_1 = point_1\n",
    "        x_2, y_2 = point_2\n",
    "        return  ((x_1 - x_2) ** 2 + (y_1 - y_2) ** 2) ** 0.5\n",
    "    \n",
    "    def check_on_line(self):\n",
    "        # Проведем прямую через первые две точки\n",
    "        x_1, y_1 = self.data[0]\n",
    "        x_2, y_2 = self.data[1]\n",
    "        def on_this_line(x, y):\n",
    "            if y_1 == y_2:\n",
    "                return y == y_1\n",
    "            if x_1 == x_2:\n",
    "                return x == x_1\n",
    "            return (x - x_1) / (x_2 - x_1) == (y - y_1) / (y_2 - y_1)\n",
    "        # Проверим, чо все остальные точки принадлежат построенной линии \n",
    "        for point in self.data[2:]:\n",
    "            if not on_this_line(*point):\n",
    "                raise Exception('Рoints don\\'t lie on one line.')\n",
    "            \n",
    "    def sort(self):\n",
    "        self.initial_positions, self.data = zip(*sorted(enumerate(self.data), key=itemgetter(1)))\n",
    "        self.data = list(self.data)\n",
    "\n",
    "    def fit_transform(self, data):\n",
    "        self.init_points(data)\n",
    "        dists, unions = [], []\n",
    "        for i, val in enumerate(self.data[:-1]):\n",
    "            dists.append(self.dist(val, self.data[i+1]))\n",
    "            unions.append([i, i + 1])\n",
    "        unions, dists = np.array(unions), np.array(dists)\n",
    "        inds = np.argsort(dists)\n",
    "        unions, dists = unions[inds], dists[inds]\n",
    "        \n",
    "        clusters = {i:{i} for i in range(len(self.data))}\n",
    "        points_clusters = np.array([i for i in range(len(self.data))])\n",
    "        \n",
    "        for pair_id, pair in enumerate(unions):\n",
    "            if len(clusters) <= self.n_clusters or dists[pair_id] >= self.threshold:\n",
    "                break\n",
    "            point_1, point_2 = pair\n",
    "            cl_1, cl_2 = points_clusters[point_1], points_clusters[point_2]\n",
    "            points_clusters[points_clusters == cl_2] = cl_1\n",
    "            clusters[cl_1] = clusters[cl_1].union(clusters[cl_2])\n",
    "            clusters.pop(cl_2)\n",
    "\n",
    "        used_clust = 0\n",
    "        for i, val in enumerate(points_clusters):\n",
    "            points_clusters[i] = used_clust\n",
    "            if  i + 1 != len(points_clusters) and val != points_clusters[i + 1]:\n",
    "                used_clust +=1       \n",
    "                \n",
    "        points_clusters = points_clusters[np.argsort(self.initial_positions)]\n",
    "        return points_clusters.tolist()"
   ]
  },
  {
   "cell_type": "code",
   "execution_count": 3,
   "metadata": {},
   "outputs": [
    {
     "name": "stdout",
     "output_type": "stream",
     "text": [
      "Points: [(-1, -1), (2, 2), (0, 0), (5.25, 5.25), (3, 3)]\n",
      "Lables: [0, 1, 0, 2, 1]\n"
     ]
    }
   ],
   "source": [
    "points = [(-1, -1), (2, 2), (0, 0), (5.25, 5.25), (3, 3)]\n",
    "clust = HierarchicalClustering(n_clusters=3)\n",
    "print(\"Points:\", points)\n",
    "print(\"Lables:\", clust.fit_transform(points))"
   ]
  },
  {
   "cell_type": "markdown",
   "metadata": {},
   "source": [
    "Данный алгоритм будет плохо работать в том случае, когда соседние точки находятся на одинаковом расстоянии друг от друга.\n",
    "В таком случае постоенная дендрограмма будет похожа на лесенку, а полученные кластеры не будут представлять интереса."
   ]
  },
  {
   "cell_type": "code",
   "execution_count": null,
   "metadata": {
    "collapsed": true
   },
   "outputs": [],
   "source": []
  }
 ],
 "metadata": {
  "kernelspec": {
   "display_name": "Python 3",
   "language": "python",
   "name": "python3"
  },
  "language_info": {
   "codemirror_mode": {
    "name": "ipython",
    "version": 3
   },
   "file_extension": ".py",
   "mimetype": "text/x-python",
   "name": "python",
   "nbconvert_exporter": "python",
   "pygments_lexer": "ipython3",
   "version": "3.6.4"
  }
 },
 "nbformat": 4,
 "nbformat_minor": 2
}
